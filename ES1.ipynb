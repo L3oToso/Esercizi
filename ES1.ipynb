{
 "cells": [
  {
   "cell_type": "markdown",
   "id": "7e7d586e",
   "metadata": {},
   "source": [
    "## 1"
   ]
  },
  {
   "cell_type": "code",
   "execution_count": 6,
   "id": "041d35ac",
   "metadata": {},
   "outputs": [
    {
     "data": {
      "text/plain": [
       "([0, 2, 4, 6, 8], [0, 1, 4, 9, 16], [0, 3, 6, 9, 12])"
      ]
     },
     "execution_count": 6,
     "metadata": {},
     "output_type": "execute_result"
    }
   ],
   "source": [
    "l1 = []\n",
    "for i in range(10):\n",
    "    if i%2==0:\n",
    "        l1.append(i)\n",
    "\n",
    "l2 = []\n",
    "for i in range(5):\n",
    "    l2.append(i**2)\n",
    "\n",
    "l3 = []\n",
    "i = 0\n",
    "while i<15:\n",
    "    l3.append(i)\n",
    "    i += 3\n",
    "\n",
    "l1, l2, l3\n"
   ]
  },
  {
   "cell_type": "code",
   "execution_count": 7,
   "id": "44d8648a",
   "metadata": {},
   "outputs": [
    {
     "data": {
      "text/plain": [
       "([0, 2, 4, 6, 8], [0, 1, 4, 9, 16], [0, 3, 6, 9, 12])"
      ]
     },
     "execution_count": 7,
     "metadata": {},
     "output_type": "execute_result"
    }
   ],
   "source": [
    "l1 = [i for i in range(10) if i%2==0]\n",
    "\n",
    "l2 = [i**2 for i in range(5)]\n",
    "\n",
    "l3 = [i for i in range(0,15,3)]\n",
    "\n",
    "l1, l2, l3"
   ]
  },
  {
   "cell_type": "markdown",
   "id": "6b28a25c",
   "metadata": {},
   "source": [
    "## 2"
   ]
  },
  {
   "cell_type": "code",
   "execution_count": 40,
   "id": "ef704017",
   "metadata": {},
   "outputs": [],
   "source": [
    "import numpy as np"
   ]
  },
  {
   "cell_type": "code",
   "execution_count": 44,
   "id": "92a6d8c1",
   "metadata": {},
   "outputs": [
    {
     "data": {
      "text/plain": [
       "(4, 4)"
      ]
     },
     "execution_count": 44,
     "metadata": {},
     "output_type": "execute_result"
    }
   ],
   "source": [
    "a = np.array([2,3,5,7])\n",
    "\n",
    "len(a), a.size"
   ]
  },
  {
   "cell_type": "markdown",
   "id": "3bcb5adb",
   "metadata": {},
   "source": [
    "Tipo di dato = int32"
   ]
  },
  {
   "cell_type": "code",
   "execution_count": 10,
   "id": "14d7fd18",
   "metadata": {},
   "outputs": [
    {
     "data": {
      "text/plain": [
       "dtype('int32')"
      ]
     },
     "execution_count": 10,
     "metadata": {},
     "output_type": "execute_result"
    }
   ],
   "source": [
    "a.dtype"
   ]
  },
  {
   "cell_type": "code",
   "execution_count": 43,
   "id": "b6bf8611",
   "metadata": {},
   "outputs": [
    {
     "data": {
      "text/plain": [
       "array([2, 3, 5, 7])"
      ]
     },
     "execution_count": 43,
     "metadata": {},
     "output_type": "execute_result"
    }
   ],
   "source": [
    "def primo(i):\n",
    "    if i==0 or i == 1:\n",
    "        return 1\n",
    "    if i>3:\n",
    "        for n in range(2, int(i/2)+1):\n",
    "            if i%n==0:\n",
    "                return 1\n",
    "    return 0\n",
    "\n",
    "a = np.array([i for i in range(10) if primo(i)==0])\n",
    "a"
   ]
  },
  {
   "cell_type": "markdown",
   "id": "98f604c8",
   "metadata": {},
   "source": [
    "## 3"
   ]
  },
  {
   "cell_type": "code",
   "execution_count": 31,
   "id": "7cb99dd2",
   "metadata": {},
   "outputs": [
    {
     "data": {
      "text/plain": [
       "array([ 1,  4,  7, 10, 13, 16, 19])"
      ]
     },
     "execution_count": 31,
     "metadata": {},
     "output_type": "execute_result"
    }
   ],
   "source": [
    "a = np.arange(1,20,3)\n",
    "a"
   ]
  },
  {
   "cell_type": "code",
   "execution_count": 32,
   "id": "292a98ba",
   "metadata": {},
   "outputs": [
    {
     "data": {
      "text/plain": [
       "array([ 4,  7, 10])"
      ]
     },
     "execution_count": 32,
     "metadata": {},
     "output_type": "execute_result"
    }
   ],
   "source": [
    "b = a[1:4]\n",
    "b"
   ]
  },
  {
   "cell_type": "code",
   "execution_count": 33,
   "id": "1a25625d",
   "metadata": {},
   "outputs": [
    {
     "data": {
      "text/plain": [
       "array([19, 16, 13, 10,  7,  4,  1])"
      ]
     },
     "execution_count": 33,
     "metadata": {},
     "output_type": "execute_result"
    }
   ],
   "source": [
    "c = a[::-1]\n",
    "c"
   ]
  },
  {
   "cell_type": "code",
   "execution_count": 34,
   "id": "43e0c205",
   "metadata": {},
   "outputs": [
    {
     "data": {
      "text/plain": [
       "array([ 0.05263158,  0.25      ,  0.53846154,  1.        ,  1.85714286,\n",
       "        4.        , 19.        ])"
      ]
     },
     "execution_count": 34,
     "metadata": {},
     "output_type": "execute_result"
    }
   ],
   "source": [
    "a / c"
   ]
  },
  {
   "cell_type": "code",
   "execution_count": 35,
   "id": "60e8b49c",
   "metadata": {},
   "outputs": [
    {
     "data": {
      "text/plain": [
       "[1, 4, 7, 10, 13, 16, 19]"
      ]
     },
     "execution_count": 35,
     "metadata": {},
     "output_type": "execute_result"
    }
   ],
   "source": [
    "lista_a = list(range(1,20,3))\n",
    "lista_a"
   ]
  },
  {
   "cell_type": "code",
   "execution_count": 36,
   "id": "1c25961a",
   "metadata": {},
   "outputs": [
    {
     "data": {
      "text/plain": [
       "[4, 7, 10]"
      ]
     },
     "execution_count": 36,
     "metadata": {},
     "output_type": "execute_result"
    }
   ],
   "source": [
    "lista_b = lista_a[1:4]\n",
    "lista_b"
   ]
  },
  {
   "cell_type": "code",
   "execution_count": 37,
   "id": "9046763d",
   "metadata": {},
   "outputs": [
    {
     "data": {
      "text/plain": [
       "[19, 16, 13, 10, 7, 4, 1]"
      ]
     },
     "execution_count": 37,
     "metadata": {},
     "output_type": "execute_result"
    }
   ],
   "source": [
    "lista_c = lista_a[::-1]\n",
    "lista_c"
   ]
  },
  {
   "cell_type": "code",
   "execution_count": 38,
   "id": "5cec1578",
   "metadata": {},
   "outputs": [
    {
     "data": {
      "text/plain": [
       "[0.05263157894736842,\n",
       " 0.25,\n",
       " 0.5384615384615384,\n",
       " 1.0,\n",
       " 1.8571428571428572,\n",
       " 4.0,\n",
       " 19.0]"
      ]
     },
     "execution_count": 38,
     "metadata": {},
     "output_type": "execute_result"
    }
   ],
   "source": [
    "lista_d = []\n",
    "\n",
    "for i in range(len(lista_a)):\n",
    "    d = lista_a[i] / lista_c[i]\n",
    "    lista_d.append(d)\n",
    "\n",
    "lista_d"
   ]
  },
  {
   "cell_type": "code",
   "execution_count": null,
   "id": "03825863",
   "metadata": {},
   "outputs": [],
   "source": []
  }
 ],
 "metadata": {
  "kernelspec": {
   "display_name": "Python [conda env:base] *",
   "language": "python",
   "name": "conda-base-py"
  },
  "language_info": {
   "codemirror_mode": {
    "name": "ipython",
    "version": 3
   },
   "file_extension": ".py",
   "mimetype": "text/x-python",
   "name": "python",
   "nbconvert_exporter": "python",
   "pygments_lexer": "ipython3",
   "version": "3.12.7"
  }
 },
 "nbformat": 4,
 "nbformat_minor": 5
}
