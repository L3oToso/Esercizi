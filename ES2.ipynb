{
 "cells": [
  {
   "cell_type": "markdown",
   "id": "6ec290f1",
   "metadata": {},
   "source": [
    "## 1"
   ]
  },
  {
   "cell_type": "code",
   "execution_count": 2,
   "id": "b02a2fb4",
   "metadata": {},
   "outputs": [],
   "source": [
    "import numpy as np"
   ]
  },
  {
   "cell_type": "code",
   "execution_count": 3,
   "id": "b63f2341",
   "metadata": {},
   "outputs": [
    {
     "data": {
      "text/plain": [
       "array([11, 13, 17, 19])"
      ]
     },
     "execution_count": 3,
     "metadata": {},
     "output_type": "execute_result"
    }
   ],
   "source": [
    "a = np.array([2,3,5,7,11,13,17,19])\n",
    "\n",
    "a[a > 10]"
   ]
  },
  {
   "cell_type": "code",
   "execution_count": 4,
   "id": "7695290f",
   "metadata": {},
   "outputs": [
    {
     "data": {
      "text/plain": [
       "array([2])"
      ]
     },
     "execution_count": 4,
     "metadata": {},
     "output_type": "execute_result"
    }
   ],
   "source": [
    "a[a%2==0]"
   ]
  },
  {
   "cell_type": "markdown",
   "id": "ddbfc02b",
   "metadata": {},
   "source": [
    "## 2"
   ]
  },
  {
   "cell_type": "code",
   "execution_count": 11,
   "id": "fc5510c5",
   "metadata": {},
   "outputs": [
    {
     "data": {
      "text/plain": [
       "(array([[ 0,  1,  2],\n",
       "        [ 3,  4,  5],\n",
       "        [ 6,  7,  8],\n",
       "        [ 9, 10, 11]]),\n",
       " array([[ 3,  4,  5],\n",
       "        [ 9, 10, 11]]),\n",
       " array([6, 7, 8]))"
      ]
     },
     "execution_count": 11,
     "metadata": {},
     "output_type": "execute_result"
    }
   ],
   "source": [
    "a = np.arange(0,12).reshape((4,3))\n",
    "\n",
    "b = a[1::2, :]\n",
    "\n",
    "c = a[2, :]\n",
    "\n",
    "a, b, c"
   ]
  },
  {
   "cell_type": "code",
   "execution_count": 13,
   "id": "e4c8da5a",
   "metadata": {},
   "outputs": [
    {
     "data": {
      "text/plain": [
       "array([[0.        , 0.14285714, 0.25      ],\n",
       "       [0.5       , 0.57142857, 0.625     ],\n",
       "       [1.        , 1.        , 1.        ],\n",
       "       [1.5       , 1.42857143, 1.375     ]])"
      ]
     },
     "execution_count": 13,
     "metadata": {},
     "output_type": "execute_result"
    }
   ],
   "source": [
    "a/c"
   ]
  },
  {
   "cell_type": "markdown",
   "id": "066d7df0",
   "metadata": {},
   "source": [
    "## 3"
   ]
  },
  {
   "cell_type": "code",
   "execution_count": 15,
   "id": "fbb492bc",
   "metadata": {},
   "outputs": [],
   "source": [
    "import random "
   ]
  },
  {
   "cell_type": "code",
   "execution_count": 17,
   "id": "9ff8cf68",
   "metadata": {},
   "outputs": [
    {
     "data": {
      "text/plain": [
       "array([[0.83757477, 0.28077951, 0.9086121 ],\n",
       "       [0.02953419, 0.16604598, 0.94569554],\n",
       "       [0.74693994, 0.63664268, 0.880965  ],\n",
       "       [0.21274644, 0.71144148, 0.2295097 ],\n",
       "       [0.06807038, 0.69348164, 0.20574715],\n",
       "       [0.13183597, 0.06098646, 0.90107137],\n",
       "       [0.53796034, 0.29147996, 0.8489611 ],\n",
       "       [0.84861336, 0.56057828, 0.77131144],\n",
       "       [0.50826308, 0.95869614, 0.38882958],\n",
       "       [0.56175015, 0.14535648, 0.83023906]])"
      ]
     },
     "execution_count": 17,
     "metadata": {},
     "output_type": "execute_result"
    }
   ],
   "source": [
    "a = np.array([np.random.uniform(0,1,30)]).reshape((10,3))\n",
    "a"
   ]
  },
  {
   "cell_type": "code",
   "execution_count": 20,
   "id": "39517c9e",
   "metadata": {},
   "outputs": [
    {
     "data": {
      "text/plain": [
       "array([0.28077951, 0.16604598, 0.63664268, 0.71144148, 0.69348164,\n",
       "       0.13183597, 0.53796034, 0.56057828, 0.50826308, 0.56175015])"
      ]
     },
     "execution_count": 20,
     "metadata": {},
     "output_type": "execute_result"
    }
   ],
   "source": [
    "dist = np.abs(a-0.5)\n",
    "\n",
    "indici = np.argmin(dist, axis=1)\n",
    "\n",
    "vicini = a[np.arange(a.shape[0]),indici]\n",
    "\n",
    "vicini"
   ]
  },
  {
   "cell_type": "markdown",
   "id": "096ad97a",
   "metadata": {},
   "source": [
    "## 4"
   ]
  },
  {
   "cell_type": "code",
   "execution_count": 22,
   "id": "71a9e86f",
   "metadata": {},
   "outputs": [
    {
     "data": {
      "text/plain": [
       "60"
      ]
     },
     "execution_count": 22,
     "metadata": {},
     "output_type": "execute_result"
    }
   ],
   "source": [
    "a = np.array([68, 65, 77, 110, 160, 161, 162, 161, 160, 161, \n",
    "              162, 163, 164, 163, 162, 100, 90, 97, 72, 60, 70])\n",
    "a.min()"
   ]
  },
  {
   "cell_type": "code",
   "execution_count": 23,
   "id": "e6a9588c",
   "metadata": {},
   "outputs": [
    {
     "data": {
      "text/plain": [
       "164"
      ]
     },
     "execution_count": 23,
     "metadata": {},
     "output_type": "execute_result"
    }
   ],
   "source": [
    "a.max()"
   ]
  },
  {
   "cell_type": "code",
   "execution_count": 25,
   "id": "d2f65e2c",
   "metadata": {},
   "outputs": [
    {
     "data": {
      "text/plain": [
       "52.38095238095239"
      ]
     },
     "execution_count": 25,
     "metadata": {},
     "output_type": "execute_result"
    }
   ],
   "source": [
    "b = a>120\n",
    "\n",
    "perc = np.mean(b) * 100\n",
    "perc"
   ]
  },
  {
   "cell_type": "markdown",
   "id": "5616e3fe",
   "metadata": {},
   "source": [
    "## 5"
   ]
  },
  {
   "cell_type": "code",
   "execution_count": 21,
   "id": "ea533897",
   "metadata": {},
   "outputs": [
    {
     "data": {
      "text/plain": [
       "299250"
      ]
     },
     "execution_count": 21,
     "metadata": {},
     "output_type": "execute_result"
    }
   ],
   "source": [
    "a = np.array([50000, 105250, 55000, 89000])\n",
    "\n",
    "tot_1 = a.sum()\n",
    "tot_1"
   ]
  },
  {
   "cell_type": "code",
   "execution_count": 22,
   "id": "3a42f5a8",
   "metadata": {},
   "outputs": [
    {
     "data": {
      "text/plain": [
       "array([ 50000. , 121037.5,  55000. ,  89000. ])"
      ]
     },
     "execution_count": 22,
     "metadata": {},
     "output_type": "execute_result"
    }
   ],
   "source": [
    "a = np.array([i*1.15 if i==105250 else i for i in a])\n",
    "a"
   ]
  },
  {
   "cell_type": "code",
   "execution_count": 23,
   "id": "319fcc2a",
   "metadata": {},
   "outputs": [
    {
     "data": {
      "text/plain": [
       "array([ 60000. , 121037.5,  55000. ,  89000. ])"
      ]
     },
     "execution_count": 23,
     "metadata": {},
     "output_type": "execute_result"
    }
   ],
   "source": [
    "a = np.array([i*1.2 if i==50000 else i for i in a])\n",
    "a"
   ]
  },
  {
   "cell_type": "code",
   "execution_count": 24,
   "id": "1719fd6d",
   "metadata": {},
   "outputs": [
    {
     "data": {
      "text/plain": [
       "array([ 60000. , 121037.5,  60500. ,  97900. ])"
      ]
     },
     "execution_count": 24,
     "metadata": {},
     "output_type": "execute_result"
    }
   ],
   "source": [
    "a = np.array([i*1.1 if i==55000 or i==89000 else i for i in a])\n",
    "a"
   ]
  },
  {
   "cell_type": "code",
   "execution_count": 25,
   "id": "2264121e",
   "metadata": {},
   "outputs": [
    {
     "data": {
      "text/plain": [
       "339437.5"
      ]
     },
     "execution_count": 25,
     "metadata": {},
     "output_type": "execute_result"
    }
   ],
   "source": [
    "tot_2 = a.sum()\n",
    "tot_2"
   ]
  },
  {
   "cell_type": "code",
   "execution_count": 26,
   "id": "33988795",
   "metadata": {},
   "outputs": [
    {
     "name": "stdout",
     "output_type": "stream",
     "text": [
      "Costo totale: 40187.5\n"
     ]
    }
   ],
   "source": [
    "cost = tot_2 - tot_1\n",
    "\n",
    "print('Costo totale:', cost)"
   ]
  },
  {
   "cell_type": "markdown",
   "id": "6d6b7b03",
   "metadata": {},
   "source": [
    "## 6"
   ]
  },
  {
   "cell_type": "code",
   "execution_count": 35,
   "id": "1ab3734d",
   "metadata": {},
   "outputs": [
    {
     "data": {
      "text/plain": [
       "array([ 6.01,  7.73,  8.63, 16.5 , 14.61,  4.55, 10.8 , 17.43,  4.18,\n",
       "       11.66,  4.75,  9.23, 12.66,  5.4 , 12.44, 18.4 ,  4.23, 17.2 ,\n",
       "       13.92, 13.76, 14.84,  9.5 , 14.25, 14.95, 16.19, 10.82, 14.04,\n",
       "        6.79, 15.17,  6.41,  6.88, 15.11,  7.07,  7.56, 19.78,  8.42,\n",
       "       14.95, 17.88, 14.16, 13.95, 11.  , 10.25,  6.4 , 16.89, 10.93,\n",
       "       11.7 , 16.82, 19.93, 10.36,  7.79, 13.72,  5.4 , 18.19, 14.52,\n",
       "        9.78,  5.85,  4.24, 11.91,  9.72,  8.37, 11.83, 19.17, 16.05,\n",
       "       12.79, 14.95,  4.79, 10.81, 16.57, 17.88, 19.32,  8.15, 13.  ,\n",
       "       19.29,  6.03,  5.77,  6.07,  7.04, 18.51,  8.14, 15.84,  7.89,\n",
       "        5.23, 18.12,  8.57,  9.62, 12.91, 10.17,  8.55, 15.66,  9.36,\n",
       "       16.14, 12.62,  7.12, 13.82, 15.88, 16.06,  5.5 , 17.84,  9.95,\n",
       "       11.71, 12.23, 16.19, 18.26,  4.35, 17.25,  5.96,  8.95, 16.62,\n",
       "       16.84, 11.69, 17.09, 14.9 , 13.48, 16.42,  4.96, 12.75, 14.15,\n",
       "        6.87,  5.84,  9.23,  9.84, 13.88, 12.72, 10.24, 15.58, 11.68,\n",
       "       10.47,  9.27, 19.94, 10.97, 10.24,  9.75,  6.8 ,  8.71, 10.96,\n",
       "       11.47, 15.76, 14.59, 11.44, 12.87,  5.17,  4.56, 13.02,  4.44,\n",
       "        4.01,  7.66, 10.89, 18.17, 12.59,  5.52,  5.15, 18.62,  5.26,\n",
       "        9.39, 13.17, 11.47,  8.99, 13.42,  5.53, 19.06,  6.84, 14.58,\n",
       "       19.73,  4.28,  9.2 , 18.77, 10.65,  4.3 , 10.78,  8.68, 13.8 ,\n",
       "       14.37, 17.57, 18.88,  9.6 , 19.24, 17.08, 10.7 , 13.95,  7.99,\n",
       "       17.28,  4.6 , 11.78,  5.94, 17.6 ,  7.74, 18.23,  7.68,  7.83,\n",
       "       19.67, 14.11, 14.53, 10.51,  9.41,  4.24,  9.81,  9.65,  9.01,\n",
       "        8.52, 15.55])"
      ]
     },
     "execution_count": 35,
     "metadata": {},
     "output_type": "execute_result"
    }
   ],
   "source": [
    "em = np.loadtxt('./emissioni.txt', dtype=float)\n",
    "em"
   ]
  },
  {
   "cell_type": "code",
   "execution_count": 44,
   "id": "416e7bc4",
   "metadata": {},
   "outputs": [
    {
     "data": {
      "text/plain": [
       "(20, 18.964000000000002)"
      ]
     },
     "execution_count": 44,
     "metadata": {},
     "output_type": "execute_result"
    }
   ],
   "source": [
    "sup = em > 18\n",
    "conta = np.sum(sup)\n",
    "media = np.mean(em[sup])\n",
    "\n",
    "conta, media"
   ]
  },
  {
   "cell_type": "code",
   "execution_count": 48,
   "id": "50a14f26",
   "metadata": {},
   "outputs": [
    {
     "data": {
      "text/plain": [
       "(379.28000000000003, 2323.2799999999997, 0.16325195413381086)"
      ]
     },
     "execution_count": 48,
     "metadata": {},
     "output_type": "execute_result"
    }
   ],
   "source": [
    "em_sup = np.sum(em[sup])\n",
    "em_tot = np.sum(em)\n",
    "\n",
    "fraz = em_sup/em_tot\n",
    "\n",
    "em_sup, em_tot, fraz"
   ]
  },
  {
   "cell_type": "markdown",
   "id": "2e17715c",
   "metadata": {},
   "source": [
    "## 7"
   ]
  },
  {
   "cell_type": "code",
   "execution_count": 50,
   "id": "773589ed",
   "metadata": {},
   "outputs": [],
   "source": [
    "survey_matrix = np.array([ [25, 40000, 10], [32, 52000, 12],\n",
    "                           [40, 63000, 14], [29, 47000, 11], \n",
    "                           [35, 58000, 13] ])"
   ]
  },
  {
   "cell_type": "code",
   "execution_count": 52,
   "id": "2aa78a40",
   "metadata": {},
   "outputs": [
    {
     "data": {
      "text/plain": [
       "array([[   32, 52000,    12],\n",
       "       [   40, 63000,    14],\n",
       "       [   35, 58000,    13]])"
      ]
     },
     "execution_count": 52,
     "metadata": {},
     "output_type": "execute_result"
    }
   ],
   "source": [
    "ist_12 = survey_matrix[:,2] >= 12\n",
    "\n",
    "sel = survey_matrix[ist_12]\n",
    "sel"
   ]
  },
  {
   "cell_type": "code",
   "execution_count": 53,
   "id": "1ef3782b",
   "metadata": {},
   "outputs": [
    {
     "data": {
      "text/plain": [
       "array([52000, 63000, 58000])"
      ]
     },
     "execution_count": 53,
     "metadata": {},
     "output_type": "execute_result"
    }
   ],
   "source": [
    "sel[:,1]"
   ]
  },
  {
   "cell_type": "code",
   "execution_count": 54,
   "id": "151ad0ba",
   "metadata": {},
   "outputs": [
    {
     "data": {
      "text/plain": [
       "57666.666666666664"
      ]
     },
     "execution_count": 54,
     "metadata": {},
     "output_type": "execute_result"
    }
   ],
   "source": [
    "np.mean(sel[:,1])"
   ]
  },
  {
   "cell_type": "markdown",
   "id": "b8bbff61",
   "metadata": {},
   "source": [
    "## 8"
   ]
  },
  {
   "cell_type": "code",
   "execution_count": 65,
   "id": "c3afe138",
   "metadata": {},
   "outputs": [],
   "source": [
    "ages = np.array([92, 108, 75, 63, 62, 66, 90, 98, 97, 92, 60, 107, 90, 71, 97, 86, 55, 55,\n",
    "                 98, 57, 96, 104, 96, 94, 72, 98, 111, 98, 89, 69, 77, 92, 85, 101, 93, 100,\n",
    "                 90, 101, 96, 98, 999, 87, 106, 86, 108, 55, 67, 65, 68, 59, 67, 72, 57, 79,\n",
    "                 95, 67, 86, 70, 91, 111, 67, 75, 59, 88, 90, 99, 94, 65, 111, 103, 100, 70,\n",
    "                 63, 65, 100, 110, 999, 70, 57, 75, 56, 104, 111, 90, 74, 100, 90, 86, 88, 99,\n",
    "                 58, 103, 88, 103, 64, 96, 105, 89, 83, 65, 100, 62, 73, 105, 83, 105, 58, 96,\n",
    "                 77, 74, 95, 109, 91, 101, 91, 999, 63, 111, 97, 108, 75, 77, 73, 58, 94, 83,\n",
    "                 90, 61, 110, 107, 105, 85, 64, 66, 71, 107, 105, 72, 78, 66, 100, 102, 72, 999,\n",
    "                 74, 68, 73, 72, 90, 93, 99, 55, 92, 83, 58, 71, 89, 75, 98, 87, 999, 78,\n",
    "                 97, 71, 106, 83, 58, 81, 100, 72, 93, 70, 65, 60, 95, 107, 94, 77, 87, 90,\n",
    "                 82, 56, 99, 107, 86, 56, 73, 96, 64, 69, 64, 92, 57, 104, 110, 69, 66, 68,\n",
    "                 84, 89, 72, 80, 55, 75, 87, 57, 106, 69, 66, 62, 102, 76, 111, 999, 96, 83,\n",
    "                 84, 61, 102, 63, 107, 63, 76, 58, 83, 58, 61, 71, 77, 90, 74, 100, 103, 74,\n",
    "                 92, 102, 63, 87, 93, 61, 63, 86, 74, 98, 64, 999, 78, 95, 84, 81, 107, 85,\n",
    "                 79, 82, 89, 65, 107, 57, 74, 77, 97, 92, 58, 96, 105, 60, 55, 74, 57, 80,\n",
    "                 62, 85, 87, 62, 999, 71, 74, 70, 97, 59, 82, 96, 105, 70, 89, 105, 60, 70,\n",
    "                 87, 999, 64, 108, 107, 104, 85, 95, 108, 74, 64, 97, 89, 88, 79, 67, 81, 92,\n",
    "                 63, 80, 76, 94, 104, 67, 73, 61, 99, 96, 68, 90, 86, 79, 85, 111, 75, 98,\n",
    "                 81, 111, 108, 103, 85, 72, 108, 102, 999, 64, 107, 112, 66, 93, 89, 78, 66, 92,\n",
    "                 63, 101, 92, 64, 72, 56, 71, 64, 87, 78, 107, 85, 109, 95, 69, 111, 64, 72,\n",
    "                 55, 66, 99, 57, 78, 55, 58, 90, 88, 71, 90, 103, 92, 98, 67, 97, 77, 68,\n",
    "                 77, 59, 78, 69, 77, 81, 61, 99, 999, 85, 78, 104, 97, 95, 74, 70, 69, 83,\n",
    "                 68, 68, 77, 60, 85, 82, 93, 66, 71, 62, 64, 107, 999, 65, 78, 59, 83, 67,\n",
    "                 108,  58,  95, 106,  83,  79,  67,  59,  96,  90,  55,  55,  96, 109,  82,  55, 101,  58,\n",
    "                 97, 77, 60, 81, 999, 81, 75, 100, 66, 65, 105, 94, 101, 56, 999, 59, 105, 59,\n",
    "                 93, 56, 104, 74, 81, 62, 76, 65, 107, 60, 107, 98, 77, 86, 83, 104, 74, 69,\n",
    "                 97, 80, 91, 56, 108, 87, 65, 91, 93, 60, 91, 110, 107, 88, 96, 70, 60, 99,\n",
    "                 66, 91, 107, 65, 81, 109, 84, 106, 80, 92, 78, 84, 91, 59], dtype=float)"
   ]
  },
  {
   "cell_type": "code",
   "execution_count": 66,
   "id": "e697b165",
   "metadata": {},
   "outputs": [
    {
     "data": {
      "text/plain": [
       "112.0"
      ]
     },
     "execution_count": 66,
     "metadata": {},
     "output_type": "execute_result"
    }
   ],
   "source": [
    "ages[ages==999] = np.nan\n",
    "\n",
    "np.max(ages[~np.isnan(ages)])"
   ]
  },
  {
   "cell_type": "markdown",
   "id": "7ef88c9c",
   "metadata": {},
   "source": [
    "## 9"
   ]
  },
  {
   "cell_type": "code",
   "execution_count": 67,
   "id": "82d04841",
   "metadata": {},
   "outputs": [],
   "source": [
    "lista_parole = [\n",
    "    'INSEDIAMENTO', 'SEPARAZIONE', 'DIFFERENZA', 'APPLICAZIONE', 'ATTEGGIAMENTO', 'VERDURA', 'IMPERO', 'RICEVIMENTO',\n",
    "    'IGNORANZA', 'BIOGRAFIA', 'VISIONE', 'AGENTE DI POLIZIA', 'PROVA', 'PRESTAZIONE', 'PRESENTAZIONE', 'PARENTE',\n",
    "    'GIUSTIFICAZIONE', 'FILOSOFIA', 'DIREZIONE', 'BENEFICIARIO', 'BATTERIA', 'CERIMONIA', 'AGONIA', 'RECUPERO',\n",
    "    'ALFABETIZZAZIONE', 'CONSEGNA', 'SERBATOIO', 'VOLONTARIO', 'DEPOSITO', 'BIRILLO DA BOWLING', 'NEMICO', 'ANNUNCIO',\n",
    "    'CARAMELLA ZUCCHERATA', 'FULMINE', 'PALLONCINO', 'COPERTA', 'SCOPERTA', 'PENALITÀ', 'GENERALE', 'ALPACA',\n",
    "    'VANTAGGIO', 'HOT DOG', 'ABITO', 'MATEMATICA', 'VARIANTE'\n",
    "]"
   ]
  },
  {
   "cell_type": "code",
   "execution_count": 68,
   "id": "dadc5cab",
   "metadata": {},
   "outputs": [
    {
     "name": "stdout",
     "output_type": "stream",
     "text": [
      "\n",
      "\"In epoche passate, viveva una donna saggia che era molto orgogliosa\n",
      "dell'antico RECUPERO che proteggeva.\n",
      "Quando un anziano del villaggio venne a chiederle consiglio su come garantire\n",
      "al meglio un raccolto abbondante e le offrì il\n",
      "PARENTE come dono,\n",
      "i suoi occhi si spalancarono e lei esclamò una sola parola,\n",
      "\"INSEDIAMENTO\".\n",
      "\n",
      "Radunò il villaggio e, per i successivi 100 giorni, su sua richiesta,\n",
      "gli abitanti cercarono nella foresta un\n",
      "ALFABETIZZAZIONE.\n",
      "\n",
      "Nel 101° giorno, il bambino più giovane del villaggio trovò ciò che stavano\n",
      "cercando e tutti corsero dalla donna saggia per donarglielo.\n",
      "\n",
      "Con un sorriso da un orecchio all’altro, e cantando canti di festa,\n",
      "la donna saggia guardò i suoi compaesani e disse:\n",
      "\"Ora è giunto il tempo del banchetto - nessuno rimarrà mai più senza\n",
      "VOLONTARIO!\" Ci fu grande gioia e celebrazione.\"\n",
      "\n"
     ]
    }
   ],
   "source": [
    "len = len(lista_parole)\n",
    "\n",
    "frase = f\"\"\"\n",
    "\"In epoche passate, viveva una donna saggia che era molto orgogliosa\n",
    "dell'antico {lista_parole[np.random.randint(0, len)]} che proteggeva.\n",
    "Quando un anziano del villaggio venne a chiederle consiglio su come garantire\n",
    "al meglio un raccolto abbondante e le offrì il\n",
    "{lista_parole[np.random.randint(0, len)]} come dono,\n",
    "i suoi occhi si spalancarono e lei esclamò una sola parola,\n",
    "\\\"{lista_parole[np.random.randint(0, len)]}\\\".\n",
    "\n",
    "Radunò il villaggio e, per i successivi 100 giorni, su sua richiesta,\n",
    "gli abitanti cercarono nella foresta un\n",
    "{lista_parole[np.random.randint(0, len)]}.\n",
    "\n",
    "Nel 101° giorno, il bambino più giovane del villaggio trovò ciò che stavano\n",
    "cercando e tutti corsero dalla donna saggia per donarglielo.\n",
    "\n",
    "Con un sorriso da un orecchio all’altro, e cantando canti di festa,\n",
    "la donna saggia guardò i suoi compaesani e disse:\n",
    "\\\"Ora è giunto il tempo del banchetto - nessuno rimarrà mai più senza\n",
    "{lista_parole[np.random.randint(0, len)]}!\\\" Ci fu grande gioia e celebrazione.\"\n",
    "\"\"\"\n",
    "print(frase)"
   ]
  }
 ],
 "metadata": {
  "kernelspec": {
   "display_name": "Python [conda env:base] *",
   "language": "python",
   "name": "conda-base-py"
  },
  "language_info": {
   "codemirror_mode": {
    "name": "ipython",
    "version": 3
   },
   "file_extension": ".py",
   "mimetype": "text/x-python",
   "name": "python",
   "nbconvert_exporter": "python",
   "pygments_lexer": "ipython3",
   "version": "3.12.7"
  }
 },
 "nbformat": 4,
 "nbformat_minor": 5
}
